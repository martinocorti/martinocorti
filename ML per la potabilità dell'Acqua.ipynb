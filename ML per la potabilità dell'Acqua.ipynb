{
 "cells": [
  {
   "cell_type": "markdown",
   "metadata": {},
   "source": [
    "# Analisi Predittive su un Dataset di Campioni d'Acqua  \n",
    "\n",
    "In questo notebook svilupperò delle **analisi predittive** su un **dataset** contenente una raccolta di **campioni d'acqua**.  \n",
    "Ogni riga (**item**) del dataset rappresenta un campione, mentre le colonne (**features**) descrivono le sue **caratteristiche chimico-fisiche**, insieme a una feature che determina la sua **potabilità**.  \n",
    "\n",
    "## Obiettivo  \n",
    "L'obiettivo di questa analisi è creare un **modello predittivo** in grado di determinare, su un subset di dati mai visto in fase di addestramento, **se un campione d'acqua è potabile o meno** (**classificazione binaria**).  \n",
    "\n",
    "## Fasi dell'analisi  \n",
    "\n",
    "1. **Analisi Esplorativa dei Dati (EDA)**  \n",
    "   - Studio delle **distribuzioni** delle variabili.  \n",
    "   - Gestione di **outlier** e **valori nulli** (se presenti).  \n",
    "   - Analisi delle **scale** delle feature.  \n",
    "   - Selezione di un **subset ottimizzato** contenente solo le feature più rilevanti, determinate con il metodo del *chi2_contingency*.  \n",
    "   - Le analisi verranno eseguite sia sul dataset completo che sul subset ottimizzato.  \n",
    "\n",
    "2. **Scelta della metrica di classificazione**  \n",
    "   - Dopo aver compreso le caratteristiche del dataset, verrà scelta una **metrica di valutazione** adatta all'obiettivo di previsione, che servirà per confrontare le performance dei modelli.  \n",
    "\n",
    "3. **Selezione del modello**  \n",
    "   - Verranno definiti dei **baseline model** da utilizzare come riferimento.  \n",
    "   - Successivamente, si testeranno (*cross-validation*) **modelli più complessi** per determinare quali di essi raggiungono le migliori performance rispetto alla baseline.  \n",
    "\n",
    "4. **Ottimizzazione degli iperparametri e training**  \n",
    "   - Una volta scelti i modelli con le migliori prestazioni, si procederà con la **ricerca degli iperparametri ottimali** (*grid-search*) per migliorarne ulteriormente l'accuratezza predittiva.  \n",
    "\n",
    "5. **Applicazione del modello**  \n",
    "   - I modelli ottimizzati verranno applicati ai **test-set** e si effettuerà una verifica finale delle **prestazioni predittive**, valutando in quale dei due set il modello ha performato meglio.  "
   ]
  },
  {
   "cell_type": "markdown",
   "metadata": {},
   "source": [
    "Per prima cosa importo il dataset ed estraggo le variabili *X* e *y*, successivamente divido il dataset in *training* e *test*."
   ]
  },
  {
   "cell_type": "code",
   "execution_count": 1,
   "metadata": {},
   "outputs": [
    {
     "name": "stdout",
     "output_type": "stream",
     "text": [
      "Training set: (2620, 9), Testing set: (656, 9)\n"
     ]
    }
   ],
   "source": [
    "# importazione delle librerie d'interesse\n",
    "import pandas as pd\n",
    "from sklearn.model_selection import train_test_split\n",
    "\n",
    "seed = 35\n",
    "# \"importo\" il dataset in una variabile e poi lo trasformo in un dataframe\n",
    "file_path = r\"Dataset/Copy of water_potability.csv\"  \n",
    "df = pd.read_csv(file_path)\n",
    "\n",
    "# separo le features (X) dalla variabile target (y)\n",
    "X = df.drop(columns=[\"Potability\"])\n",
    "y = df[\"Potability\"]\n",
    "\n",
    "# suddivido ulteriormente il mio dataset in training set(80%) e testing set(20%)\n",
    "X_train, X_test, y_train, y_test = train_test_split(X, y, test_size=0.2, random_state=seed)\n",
    "\n",
    "# visualizzo le dimensioni dei set\n",
    "print(f\"Training set: {X_train.shape}, Testing set: {X_test.shape}\")"
   ]
  },
  {
   "cell_type": "markdown",
   "metadata": {},
   "source": [
    "Questa prima operazione era per importare il nostro dataset e visualizzarne la forma in uno stato di suddivisione fra features e target. Tuttavia prima di poter operarare sull'insieme di dati, occorre analizzare diversi fattori."
   ]
  },
  {
   "cell_type": "markdown",
   "metadata": {},
   "source": [
    "Visualizzo l'aspetto generale del dataset:"
   ]
  },
  {
   "cell_type": "code",
   "execution_count": 2,
   "metadata": {},
   "outputs": [
    {
     "data": {
      "text/html": [
       "<div>\n",
       "<style scoped>\n",
       "    .dataframe tbody tr th:only-of-type {\n",
       "        vertical-align: middle;\n",
       "    }\n",
       "\n",
       "    .dataframe tbody tr th {\n",
       "        vertical-align: top;\n",
       "    }\n",
       "\n",
       "    .dataframe thead th {\n",
       "        text-align: right;\n",
       "    }\n",
       "</style>\n",
       "<table border=\"1\" class=\"dataframe\">\n",
       "  <thead>\n",
       "    <tr style=\"text-align: right;\">\n",
       "      <th></th>\n",
       "      <th>ph</th>\n",
       "      <th>Hardness</th>\n",
       "      <th>Solids</th>\n",
       "      <th>Chloramines</th>\n",
       "      <th>Sulfate</th>\n",
       "      <th>Conductivity</th>\n",
       "      <th>Organic_carbon</th>\n",
       "      <th>Trihalomethanes</th>\n",
       "      <th>Turbidity</th>\n",
       "      <th>Potability</th>\n",
       "    </tr>\n",
       "  </thead>\n",
       "  <tbody>\n",
       "    <tr>\n",
       "      <th>0</th>\n",
       "      <td>NaN</td>\n",
       "      <td>204.890456</td>\n",
       "      <td>20791.31898</td>\n",
       "      <td>7.300212</td>\n",
       "      <td>368.516441</td>\n",
       "      <td>564.308654</td>\n",
       "      <td>10.379783</td>\n",
       "      <td>86.990970</td>\n",
       "      <td>2.963135</td>\n",
       "      <td>0</td>\n",
       "    </tr>\n",
       "    <tr>\n",
       "      <th>1</th>\n",
       "      <td>3.716080</td>\n",
       "      <td>129.422921</td>\n",
       "      <td>18630.05786</td>\n",
       "      <td>6.635246</td>\n",
       "      <td>NaN</td>\n",
       "      <td>592.885359</td>\n",
       "      <td>15.180013</td>\n",
       "      <td>56.329076</td>\n",
       "      <td>4.500656</td>\n",
       "      <td>0</td>\n",
       "    </tr>\n",
       "    <tr>\n",
       "      <th>2</th>\n",
       "      <td>8.099124</td>\n",
       "      <td>224.236259</td>\n",
       "      <td>19909.54173</td>\n",
       "      <td>9.275884</td>\n",
       "      <td>NaN</td>\n",
       "      <td>418.606213</td>\n",
       "      <td>16.868637</td>\n",
       "      <td>66.420093</td>\n",
       "      <td>3.055934</td>\n",
       "      <td>0</td>\n",
       "    </tr>\n",
       "    <tr>\n",
       "      <th>3</th>\n",
       "      <td>8.316766</td>\n",
       "      <td>214.373394</td>\n",
       "      <td>22018.41744</td>\n",
       "      <td>8.059332</td>\n",
       "      <td>356.886136</td>\n",
       "      <td>363.266516</td>\n",
       "      <td>18.436525</td>\n",
       "      <td>100.341674</td>\n",
       "      <td>4.628771</td>\n",
       "      <td>0</td>\n",
       "    </tr>\n",
       "    <tr>\n",
       "      <th>4</th>\n",
       "      <td>9.092223</td>\n",
       "      <td>181.101509</td>\n",
       "      <td>17978.98634</td>\n",
       "      <td>6.546600</td>\n",
       "      <td>310.135738</td>\n",
       "      <td>398.410813</td>\n",
       "      <td>11.558279</td>\n",
       "      <td>31.997993</td>\n",
       "      <td>4.075075</td>\n",
       "      <td>0</td>\n",
       "    </tr>\n",
       "    <tr>\n",
       "      <th>...</th>\n",
       "      <td>...</td>\n",
       "      <td>...</td>\n",
       "      <td>...</td>\n",
       "      <td>...</td>\n",
       "      <td>...</td>\n",
       "      <td>...</td>\n",
       "      <td>...</td>\n",
       "      <td>...</td>\n",
       "      <td>...</td>\n",
       "      <td>...</td>\n",
       "    </tr>\n",
       "    <tr>\n",
       "      <th>3271</th>\n",
       "      <td>4.668102</td>\n",
       "      <td>193.681736</td>\n",
       "      <td>47580.99160</td>\n",
       "      <td>7.166639</td>\n",
       "      <td>359.948574</td>\n",
       "      <td>526.424171</td>\n",
       "      <td>13.894419</td>\n",
       "      <td>66.687695</td>\n",
       "      <td>4.435821</td>\n",
       "      <td>1</td>\n",
       "    </tr>\n",
       "    <tr>\n",
       "      <th>3272</th>\n",
       "      <td>7.808856</td>\n",
       "      <td>193.553212</td>\n",
       "      <td>17329.80216</td>\n",
       "      <td>8.061362</td>\n",
       "      <td>NaN</td>\n",
       "      <td>392.449580</td>\n",
       "      <td>19.903225</td>\n",
       "      <td>NaN</td>\n",
       "      <td>2.798243</td>\n",
       "      <td>1</td>\n",
       "    </tr>\n",
       "    <tr>\n",
       "      <th>3273</th>\n",
       "      <td>9.419510</td>\n",
       "      <td>175.762646</td>\n",
       "      <td>33155.57822</td>\n",
       "      <td>7.350233</td>\n",
       "      <td>NaN</td>\n",
       "      <td>432.044783</td>\n",
       "      <td>11.039070</td>\n",
       "      <td>69.845400</td>\n",
       "      <td>3.298875</td>\n",
       "      <td>1</td>\n",
       "    </tr>\n",
       "    <tr>\n",
       "      <th>3274</th>\n",
       "      <td>5.126763</td>\n",
       "      <td>230.603758</td>\n",
       "      <td>11983.86938</td>\n",
       "      <td>6.303357</td>\n",
       "      <td>NaN</td>\n",
       "      <td>402.883113</td>\n",
       "      <td>11.168946</td>\n",
       "      <td>77.488213</td>\n",
       "      <td>4.708658</td>\n",
       "      <td>1</td>\n",
       "    </tr>\n",
       "    <tr>\n",
       "      <th>3275</th>\n",
       "      <td>7.874671</td>\n",
       "      <td>195.102299</td>\n",
       "      <td>17404.17706</td>\n",
       "      <td>7.509306</td>\n",
       "      <td>NaN</td>\n",
       "      <td>327.459761</td>\n",
       "      <td>16.140368</td>\n",
       "      <td>78.698446</td>\n",
       "      <td>2.309149</td>\n",
       "      <td>1</td>\n",
       "    </tr>\n",
       "  </tbody>\n",
       "</table>\n",
       "<p>3276 rows × 10 columns</p>\n",
       "</div>"
      ],
      "text/plain": [
       "            ph    Hardness       Solids  Chloramines     Sulfate  \\\n",
       "0          NaN  204.890456  20791.31898     7.300212  368.516441   \n",
       "1     3.716080  129.422921  18630.05786     6.635246         NaN   \n",
       "2     8.099124  224.236259  19909.54173     9.275884         NaN   \n",
       "3     8.316766  214.373394  22018.41744     8.059332  356.886136   \n",
       "4     9.092223  181.101509  17978.98634     6.546600  310.135738   \n",
       "...        ...         ...          ...          ...         ...   \n",
       "3271  4.668102  193.681736  47580.99160     7.166639  359.948574   \n",
       "3272  7.808856  193.553212  17329.80216     8.061362         NaN   \n",
       "3273  9.419510  175.762646  33155.57822     7.350233         NaN   \n",
       "3274  5.126763  230.603758  11983.86938     6.303357         NaN   \n",
       "3275  7.874671  195.102299  17404.17706     7.509306         NaN   \n",
       "\n",
       "      Conductivity  Organic_carbon  Trihalomethanes  Turbidity  Potability  \n",
       "0       564.308654       10.379783        86.990970   2.963135           0  \n",
       "1       592.885359       15.180013        56.329076   4.500656           0  \n",
       "2       418.606213       16.868637        66.420093   3.055934           0  \n",
       "3       363.266516       18.436525       100.341674   4.628771           0  \n",
       "4       398.410813       11.558279        31.997993   4.075075           0  \n",
       "...            ...             ...              ...        ...         ...  \n",
       "3271    526.424171       13.894419        66.687695   4.435821           1  \n",
       "3272    392.449580       19.903225              NaN   2.798243           1  \n",
       "3273    432.044783       11.039070        69.845400   3.298875           1  \n",
       "3274    402.883113       11.168946        77.488213   4.708658           1  \n",
       "3275    327.459761       16.140368        78.698446   2.309149           1  \n",
       "\n",
       "[3276 rows x 10 columns]"
      ]
     },
     "execution_count": 2,
     "metadata": {},
     "output_type": "execute_result"
    }
   ],
   "source": [
    "df"
   ]
  },
  {
   "cell_type": "code",
   "execution_count": 3,
   "metadata": {},
   "outputs": [
    {
     "data": {
      "text/plain": [
       "ph                 float64\n",
       "Hardness           float64\n",
       "Solids             float64\n",
       "Chloramines        float64\n",
       "Sulfate            float64\n",
       "Conductivity       float64\n",
       "Organic_carbon     float64\n",
       "Trihalomethanes    float64\n",
       "Turbidity          float64\n",
       "Potability           int64\n",
       "dtype: object"
      ]
     },
     "execution_count": 3,
     "metadata": {},
     "output_type": "execute_result"
    }
   ],
   "source": [
    "# visualizzo i datatype delle colonne\n",
    "df.dtypes"
   ]
  },
  {
   "cell_type": "markdown",
   "metadata": {},
   "source": [
    "Osservando gli output si denota che il dataset è composto da 10 features numeriche, 9 composte da *float64* (X) e una costituita da *int64* (y)."
   ]
  },
  {
   "cell_type": "markdown",
   "metadata": {},
   "source": [
    "Visualizzo ora la presenza di valori mancanti nelle features"
   ]
  },
  {
   "cell_type": "code",
   "execution_count": 4,
   "metadata": {},
   "outputs": [
    {
     "name": "stdout",
     "output_type": "stream",
     "text": [
      "Valori nulli per colonna:\n",
      " ph                 491\n",
      "Hardness             0\n",
      "Solids               0\n",
      "Chloramines          0\n",
      "Sulfate            781\n",
      "Conductivity         0\n",
      "Organic_carbon       0\n",
      "Trihalomethanes    162\n",
      "Turbidity            0\n",
      "Potability           0\n",
      "dtype: int64\n"
     ]
    }
   ],
   "source": [
    "# Visualizziamo i valori nulli\n",
    "print(\"Valori nulli per colonna:\\n\", df.isnull().sum())"
   ]
  },
  {
   "cell_type": "markdown",
   "metadata": {},
   "source": [
    "Considerando che le colonne *ph*, *Sulfate* e *Trihalomethanes* presentano molti valori nulli, sostituirli con la media o la mediana delle fetaures appiattirebbe la varianza delle features causando una perdita d'informazione. A questo proposito decido di usare un modello di regressione *RandomForest* per imputare i valori mancanti."
   ]
  },
  {
   "cell_type": "code",
   "execution_count": 5,
   "metadata": {},
   "outputs": [
    {
     "name": "stdout",
     "output_type": "stream",
     "text": [
      "Imputati 491 valori nella colonna 'ph'\n",
      "Imputati 781 valori nella colonna 'Sulfate'\n",
      "Imputati 162 valori nella colonna 'Trihalomethanes'\n"
     ]
    }
   ],
   "source": [
    "# importo la libreria del modello\n",
    "from sklearn.ensemble import RandomForestRegressor\n",
    "# inserisco in una lista le colonne che hanno valori nulli\n",
    "columns_to_impute = ['ph', 'Sulfate', 'Trihalomethanes']\n",
    "# per ogni colonna imposto le seguenti variabili\n",
    "for col in columns_to_impute:\n",
    "    df_train = df[df[col].notnull()]\n",
    "    df_pred = df[df[col].isnull()]\n",
    "    \n",
    "    # Solo se ho dati sia per training che predizione:\n",
    "    if len(df_train) > 0 and len(df_pred) > 0:\n",
    "        # Uso tutte le altre colonne tranne quelle target per predire\n",
    "        X_train = df_train.drop(columns=columns_to_impute)\n",
    "        y_train = df_train[col]\n",
    "        X_pred = df_pred.drop(columns=columns_to_impute)\n",
    "        \n",
    "        # Random Forest Model dentro il ciclo\n",
    "        model = RandomForestRegressor(n_estimators=100, random_state=seed)\n",
    "        model.fit(X_train, y_train)\n",
    "        \n",
    "        predicted_values = model.predict(X_pred)\n",
    "        df.loc[df[col].isnull(), col] = predicted_values\n",
    "        \n",
    "        print(f\"Imputati {len(predicted_values)} valori nella colonna '{col}'\")\n",
    "    else:\n",
    "        print(f\"Colonna '{col}' senza valori da imputare o dati insufficienti.\")"
   ]
  },
  {
   "cell_type": "markdown",
   "metadata": {},
   "source": [
    "Verifico che non permangano valori nulli:"
   ]
  },
  {
   "cell_type": "code",
   "execution_count": 6,
   "metadata": {},
   "outputs": [
    {
     "name": "stdout",
     "output_type": "stream",
     "text": [
      "ph                 0\n",
      "Hardness           0\n",
      "Solids             0\n",
      "Chloramines        0\n",
      "Sulfate            0\n",
      "Conductivity       0\n",
      "Organic_carbon     0\n",
      "Trihalomethanes    0\n",
      "Turbidity          0\n",
      "Potability         0\n",
      "dtype: int64\n"
     ]
    }
   ],
   "source": [
    "print(df.isnull().sum())"
   ]
  },
  {
   "cell_type": "markdown",
   "metadata": {},
   "source": [
    "Proseguendo la mia analisi esplorativa decido di valutare la presenza di *outliers*."
   ]
  },
  {
   "cell_type": "code",
   "execution_count": 7,
   "metadata": {},
   "outputs": [
    {
     "data": {
      "image/png": "[encoded data removed]",
      "text/plain": [
       "<Figure size 1200x600 with 1 Axes>"
      ]
     },
     "metadata": {},
     "output_type": "display_data"
    },
    {
     "name": "stdout",
     "output_type": "stream",
     "text": [
      "Numero di outlier per feature:\n",
      " ph                 111\n",
      "Hardness            83\n",
      "Solids              47\n",
      "Chloramines         61\n",
      "Sulfate            162\n",
      "Conductivity        11\n",
      "Organic_carbon      25\n",
      "Trihalomethanes     54\n",
      "Turbidity           19\n",
      "dtype: int64\n",
      "\n",
      "Numero di outlier usando Z-score:\n",
      " ph                 24\n",
      "Hardness           18\n",
      "Solids             20\n",
      "Chloramines        20\n",
      "Sulfate            29\n",
      "Conductivity        7\n",
      "Organic_carbon      4\n",
      "Trihalomethanes    18\n",
      "Turbidity           9\n",
      "dtype: int64\n"
     ]
    }
   ],
   "source": [
    "# importazione delle librerie d'interesse\n",
    "import numpy as np\n",
    "import matplotlib.pyplot as plt\n",
    "# defisco le nuove variabili aggiornate\n",
    "X = df.drop(columns=[\"Potability\"])\n",
    "y = df[\"Potability\"]\n",
    "\n",
    "# creo la mia figura su cui si svilupperà il grafico\n",
    "plt.figure(figsize=(12, 6))\n",
    "# per rappresentare la distribuzione di X scelgo il boxplot\n",
    "X.boxplot(rot=45)\n",
    "plt.title(\"Boxplot delle Features\")\n",
    "plt.show()\n",
    "\n",
    "# per rilevare gli outliers scelgo il metodo dei quartili, quindi inizio a impostare i confini di ognuno di essi\n",
    "Q1 = X.quantile(0.25)\n",
    "Q3 = X.quantile(0.75)\n",
    "IQR = Q3 - Q1\n",
    "\n",
    "# definisco gli outlier come valori al di fuori di (Q1 - 1.5*IQR, Q3 + 1.5*IQR)\n",
    "# per poi contarli con il metodo sum()\n",
    "outliers = ((X < (Q1 - 1.5 * IQR)) | (X > (Q3 + 1.5 * IQR))).sum()\n",
    "# stampo i risultati\n",
    "print(\"Numero di outlier per feature:\\n\", outliers)\n",
    "\n",
    "# per completezza  utilizzo anche il Metodo Z-score per identificare outlier \n",
    "# (valori > 3 o < -3 sono considerati outlier)\n",
    "from scipy.stats import zscore\n",
    "# calcolo lo z-score per ogni valore di X\n",
    "z_scores = np.abs(zscore(X))\n",
    "# con una maschera booleana scelgo definisco gli outliers e li conteggio per colonna\n",
    "outliers_z = (z_scores > 3).sum(axis=0)\n",
    "# stampo i risultati\n",
    "print(\"\\nNumero di outlier usando Z-score:\\n\", outliers_z)"
   ]
  },
  {
   "cell_type": "markdown",
   "metadata": {},
   "source": [
    "Una volta definiti e individuati gli *outliers* procedo a eliminarli."
   ]
  },
  {
   "cell_type": "code",
   "execution_count": 8,
   "metadata": {},
   "outputs": [
    {
     "name": "stdout",
     "output_type": "stream",
     "text": [
      "Dimensione originale: X=(3276, 9), y=(3276,)\n",
      "Dimensione dopo rimozione outlier: X=(2778, 9), y=(2778,)\n"
     ]
    }
   ],
   "source": [
    "# scelgo il metodo dei quartili in quanto è più robusto e ne ridefinisco i confini\n",
    "Q1 = X.quantile(0.25)\n",
    "Q3 = X.quantile(0.75)\n",
    "IQR = Q3 - Q1\n",
    "\n",
    "# creo la maschera per le righe senza outlier\n",
    "mask = ~((X < (Q1 - 1.5 * IQR)) | (X > (Q3 + 1.5 * IQR))).any(axis=1)\n",
    "\n",
    "# applico la maschera per rimuovere le righe corrispondenti sia in X che in y\n",
    "X_cleaned = X[mask]\n",
    "y_cleaned = y[mask]  \n",
    "\n",
    "# stampo le dimensioni risultanti prima e dopo\n",
    "print(f\"Dimensione originale: X={X.shape}, y={y.shape}\")\n",
    "print(f\"Dimensione dopo rimozione outlier: X={X_cleaned.shape}, y={y_cleaned.shape}\")"
   ]
  },
  {
   "cell_type": "markdown",
   "metadata": {},
   "source": [
    "Dal grafico a scatole emerge che la feature *Solids* ha un range dei valori estremamante più ampio rispetto alle altre features, ne deduco che sarà necessaria una scalatura, tuttavia per decidere il tipo di scalatura devo verificare la sua distribuzione"
   ]
  },
  {
   "cell_type": "code",
   "execution_count": 10,
   "metadata": {},
   "outputs": [
    {
     "data": {
      "image/png": "[encoded data removed]",
      "text/plain": [
       "<Figure size 640x480 with 1 Axes>"
      ]
     },
     "metadata": {},
     "output_type": "display_data"
    }
   ],
   "source": [
    "# importo le librerie d'interesse\n",
    "import seaborn as sns\n",
    "# sempre utilizzando la X aggiornata scelgo l'istogramma come grafico e ne visulizzo il risultato\n",
    "sns.histplot(X_cleaned[\"Solids\"], kde=True, bins=30)\n",
    "plt.title(\"Distribuzione della feature 'Solids'\")\n",
    "plt.show()"
   ]
  },
  {
   "cell_type": "markdown",
   "metadata": {},
   "source": [
    "Osservando il grafico deduco che la sua distribuzione appare piuttosto gaussiana, (a parte una lieve innalzamento verso 40000) quindi sarà possibile applicare lo *StandardScaler*"
   ]
  },
  {
   "cell_type": "code",
   "execution_count": 11,
   "metadata": {},
   "outputs": [],
   "source": [
    "# Supponiamo che X_cleaned e y_cleaned siano già definiti\n",
    "X = X_cleaned\n",
    "y = y_cleaned\n",
    "# importo la funzione di scalatura\n",
    "from sklearn.preprocessing import StandardScaler\n",
    "# la applico alla colonna d'interesse\n",
    "scaler = StandardScaler()\n",
    "X[\"Solids_scaled\"] = scaler.fit_transform(X[[\"Solids\"]])\n",
    "# Rimuovo la colonna 'solids' da X\n",
    "X = X.drop(columns=['Solids'])"
   ]
  },
  {
   "cell_type": "markdown",
   "metadata": {},
   "source": [
    "Successivamente mi interessa visualizzare la distribuzione delle classi (target)"
   ]
  },
  {
   "cell_type": "code",
   "execution_count": 12,
   "metadata": {},
   "outputs": [
    {
     "name": "stdout",
     "output_type": "stream",
     "text": [
      "Potability\n",
      "0    1739\n",
      "1    1039\n",
      "Name: count, dtype: int64\n"
     ]
    },
    {
     "data": {
      "image/png": "[encoded data removed]",
      "text/plain": [
       "<Figure size 640x480 with 1 Axes>"
      ]
     },
     "metadata": {},
     "output_type": "display_data"
    }
   ],
   "source": [
    "# creo una variabile che rappresenta il conteggio dei campioni divisi per classe\n",
    "class_counts = y.value_counts()\n",
    "# stampo il risultato\n",
    "print(class_counts)\n",
    "\n",
    "# visualizzo i conteggi con un semplice grafico a barre\n",
    "class_counts.plot(kind=\"bar\", color=[\"blue\", \"orange\"])\n",
    "plt.xticks(ticks=[0, 1], labels=[\"Non Potabile\", \"Potabile\"], rotation=0)\n",
    "plt.ylabel(\"Numero di campioni\")\n",
    "plt.title(\"Distribuzione della variabile target 'Potability'\")\n",
    "plt.show()"
   ]
  },
  {
   "cell_type": "markdown",
   "metadata": {},
   "source": [
    "Per maggiore chiarezza ne visualizzo le percentuali:"
   ]
  },
  {
   "cell_type": "code",
   "execution_count": 13,
   "metadata": {},
   "outputs": [
    {
     "name": "stdout",
     "output_type": "stream",
     "text": [
      "Potability\n",
      "0    62.598992\n",
      "1    37.401008\n",
      "Name: proportion, dtype: float64\n"
     ]
    }
   ],
   "source": [
    "percentuali = y.value_counts(normalize=True) * 100\n",
    "print(percentuali)"
   ]
  },
  {
   "cell_type": "markdown",
   "metadata": {},
   "source": [
    "Dai risultati ne emerge che le classi non sono bilanciate; se non si bilancia la distribuzione durante la fase di addestramento, il modello potrebbe imparare poco le caratteristiche della classe meno rappresentata. Per questo motivo ho scelto lo stratified sampling; ho ritenuto più idoneo questo metodo rispetto al random sampling, quest'ultimo infatti rischia di sottostimare o non selezionare nessun campione della classe meno \"presente\""
   ]
  },
  {
   "cell_type": "code",
   "execution_count": 14,
   "metadata": {},
   "outputs": [
    {
     "name": "stdout",
     "output_type": "stream",
     "text": [
      "Potability\n",
      "0    0.626013\n",
      "1    0.373987\n",
      "Name: proportion, dtype: float64\n",
      "Potability\n",
      "0    0.625899\n",
      "1    0.374101\n",
      "Name: proportion, dtype: float64\n"
     ]
    }
   ],
   "source": [
    "# divido X e y in training e test eseguendo l'opzione stratified che ne mantiene le proporzioni in entrambe le fasi\n",
    "X_train, X_test, y_train, y_test = train_test_split(X, y, test_size=0.2, stratify=y, random_state=seed)\n",
    "\n",
    "# verifico la distribuzione delle classi\n",
    "print(y_train.value_counts(normalize=True))  # distribuzione delle classi nel training set\n",
    "print(y_test.value_counts(normalize=True))   # distribuzione delle classi nel test set"
   ]
  },
  {
   "cell_type": "markdown",
   "metadata": {},
   "source": [
    "In questa fase andrò a valutare un altro punto di cruciale importanza: verificare se esistono correlazioni fra le features. Per prima cosa svilupperò una matrice di correlazione"
   ]
  },
  {
   "cell_type": "code",
   "execution_count": 15,
   "metadata": {},
   "outputs": [
    {
     "name": "stdout",
     "output_type": "stream",
     "text": [
      "                       ph  Hardness  Chloramines   Sulfate  Conductivity  \\\n",
      "ph               1.000000  0.167565    -0.058108  0.002010      0.021085   \n",
      "Hardness         0.167565  1.000000    -0.044153 -0.089604     -0.032448   \n",
      "Chloramines     -0.058108 -0.044153     1.000000  0.038830     -0.021353   \n",
      "Sulfate          0.002010 -0.089604     0.038830  1.000000      0.020330   \n",
      "Conductivity     0.021085 -0.032448    -0.021353  0.020330      1.000000   \n",
      "Organic_carbon   0.022223  0.007055    -0.005288  0.021681      0.018684   \n",
      "Trihalomethanes  0.015681 -0.006179     0.022994 -0.011107      0.006306   \n",
      "Turbidity       -0.057750 -0.022106     0.001261 -0.033628      0.011444   \n",
      "Solids_scaled   -0.088421 -0.025926    -0.050083 -0.163781     -0.015660   \n",
      "\n",
      "                 Organic_carbon  Trihalomethanes  Turbidity  Solids_scaled  \n",
      "ph                     0.022223         0.015681  -0.057750      -0.088421  \n",
      "Hardness               0.007055        -0.006179  -0.022106      -0.025926  \n",
      "Chloramines           -0.005288         0.022994   0.001261      -0.050083  \n",
      "Sulfate                0.021681        -0.011107  -0.033628      -0.163781  \n",
      "Conductivity           0.018684         0.006306   0.011444      -0.015660  \n",
      "Organic_carbon         1.000000        -0.005034  -0.026190       0.026614  \n",
      "Trihalomethanes       -0.005034         1.000000  -0.035353      -0.032643  \n",
      "Turbidity             -0.026190        -0.035353   1.000000       0.031120  \n",
      "Solids_scaled          0.026614        -0.032643   0.031120       1.000000  \n"
     ]
    }
   ],
   "source": [
    "# calcolo la matrice di correlazione\n",
    "corr_matrix = X_train.corr()\n",
    "\n",
    "print(corr_matrix)"
   ]
  },
  {
   "cell_type": "markdown",
   "metadata": {},
   "source": [
    "Per una maggiore visibilità ed interpretabilità traduco i risultati in una tabella *heatmap*"
   ]
  },
  {
   "cell_type": "code",
   "execution_count": 16,
   "metadata": {},
   "outputs": [
    {
     "data": {
      "image/png": "[encoded data removed]",
      "text/plain": [
       "<Figure size 800x600 with 2 Axes>"
      ]
     },
     "metadata": {},
     "output_type": "display_data"
    }
   ],
   "source": [
    "# creazione della heatmap\n",
    "plt.figure(figsize=(8,6))\n",
    "sns.heatmap(corr_matrix, annot=True, cmap=\"coolwarm\", fmt=\".2f\", linewidths=0.5)\n",
    "plt.title(\"Matrice di Correlazione\")\n",
    "plt.show()"
   ]
  },
  {
   "cell_type": "markdown",
   "metadata": {},
   "source": [
    "Dalla heatmap è possibile osservare che non esistono correlazioni (lineari) significative fra le varie features, allora mi pongo un'altra domanda: quali sono le features che sono fortemente correlate alle variabili target? Un sistema efficace che è in grado di dircelo è il **chi_squared test**; più nel dettaglio andremo a creare una tabella di contingenza in cui per ogni feature avremo due valori, il chi2 (più è alto più la feature è correlata alla variabile target) e il p-value (più è basso più la feature è correlata alla variabile target, dovrebbe essere minore di 0.05)"
   ]
  },
  {
   "cell_type": "markdown",
   "metadata": {},
   "source": [
    "Prima di iniziare questi calcoli va tenuto conto di un dettaglio, il **chi_squared** funziona solo con features categoriali (composte da valori discreti), le nostre varibili indipendenti andranno dunque prima convertite in una scala di range categorici"
   ]
  },
  {
   "cell_type": "code",
   "execution_count": 17,
   "metadata": {},
   "outputs": [
    {
     "data": {
      "text/html": [
       "<div>\n",
       "<style scoped>\n",
       "    .dataframe tbody tr th:only-of-type {\n",
       "        vertical-align: middle;\n",
       "    }\n",
       "\n",
       "    .dataframe tbody tr th {\n",
       "        vertical-align: top;\n",
       "    }\n",
       "\n",
       "    .dataframe thead th {\n",
       "        text-align: right;\n",
       "    }\n",
       "</style>\n",
       "<table border=\"1\" class=\"dataframe\">\n",
       "  <thead>\n",
       "    <tr style=\"text-align: right;\">\n",
       "      <th></th>\n",
       "      <th>ph</th>\n",
       "      <th>Hardness</th>\n",
       "      <th>Chloramines</th>\n",
       "      <th>Sulfate</th>\n",
       "      <th>Conductivity</th>\n",
       "      <th>Organic_carbon</th>\n",
       "      <th>Trihalomethanes</th>\n",
       "      <th>Turbidity</th>\n",
       "      <th>Solids_scaled</th>\n",
       "    </tr>\n",
       "  </thead>\n",
       "  <tbody>\n",
       "    <tr>\n",
       "      <th>2522</th>\n",
       "      <td>Molto Alto</td>\n",
       "      <td>Molto Alto</td>\n",
       "      <td>Medio</td>\n",
       "      <td>Molto Alto</td>\n",
       "      <td>Medio</td>\n",
       "      <td>Medio Alto</td>\n",
       "      <td>Basso</td>\n",
       "      <td>Medio</td>\n",
       "      <td>Medio Alto</td>\n",
       "    </tr>\n",
       "    <tr>\n",
       "      <th>859</th>\n",
       "      <td>Medio</td>\n",
       "      <td>Medio Alto</td>\n",
       "      <td>Medio</td>\n",
       "      <td>Medio Alto</td>\n",
       "      <td>Medio Alto</td>\n",
       "      <td>Molto Alto</td>\n",
       "      <td>Medio Basso</td>\n",
       "      <td>Alto</td>\n",
       "      <td>Alto</td>\n",
       "    </tr>\n",
       "    <tr>\n",
       "      <th>669</th>\n",
       "      <td>Medio Alto</td>\n",
       "      <td>Medio</td>\n",
       "      <td>Alto</td>\n",
       "      <td>Molto Alto</td>\n",
       "      <td>Molto Alto</td>\n",
       "      <td>Medio Alto</td>\n",
       "      <td>Medio</td>\n",
       "      <td>Basso</td>\n",
       "      <td>Alto</td>\n",
       "    </tr>\n",
       "    <tr>\n",
       "      <th>830</th>\n",
       "      <td>Medio</td>\n",
       "      <td>Molto Alto</td>\n",
       "      <td>Molto Alto</td>\n",
       "      <td>Basso</td>\n",
       "      <td>Medio Alto</td>\n",
       "      <td>Medio</td>\n",
       "      <td>Medio</td>\n",
       "      <td>Alto</td>\n",
       "      <td>Medio</td>\n",
       "    </tr>\n",
       "    <tr>\n",
       "      <th>2394</th>\n",
       "      <td>Medio</td>\n",
       "      <td>Medio Basso</td>\n",
       "      <td>Alto</td>\n",
       "      <td>Alto</td>\n",
       "      <td>Molto Alto</td>\n",
       "      <td>Medio Alto</td>\n",
       "      <td>Medio</td>\n",
       "      <td>Medio Basso</td>\n",
       "      <td>Medio</td>\n",
       "    </tr>\n",
       "  </tbody>\n",
       "</table>\n",
       "</div>"
      ],
      "text/plain": [
       "              ph     Hardness Chloramines     Sulfate Conductivity  \\\n",
       "2522  Molto Alto   Molto Alto       Medio  Molto Alto        Medio   \n",
       "859        Medio   Medio Alto       Medio  Medio Alto   Medio Alto   \n",
       "669   Medio Alto        Medio        Alto  Molto Alto   Molto Alto   \n",
       "830        Medio   Molto Alto  Molto Alto       Basso   Medio Alto   \n",
       "2394       Medio  Medio Basso        Alto        Alto   Molto Alto   \n",
       "\n",
       "     Organic_carbon Trihalomethanes    Turbidity Solids_scaled  \n",
       "2522     Medio Alto           Basso        Medio    Medio Alto  \n",
       "859      Molto Alto     Medio Basso         Alto          Alto  \n",
       "669      Medio Alto           Medio        Basso          Alto  \n",
       "830           Medio           Medio         Alto         Medio  \n",
       "2394     Medio Alto           Medio  Medio Basso         Medio  "
      ]
     },
     "execution_count": 17,
     "metadata": {},
     "output_type": "execute_result"
    }
   ],
   "source": [
    "# imposto una lista contenente il nome delle colonne che saranno convertite (esclusa la y)\n",
    "columns_to_convert = ['ph', 'Hardness', 'Solids_scaled', 'Chloramines', 'Sulfate', 'Conductivity',\n",
    "                      'Organic_carbon', 'Trihalomethanes', 'Turbidity']\n",
    "\n",
    "# in un'altra lista inserisco il range di categorie discrete\n",
    "labels = ['Molto Basso', 'Basso', 'Medio Basso', 'Medio', 'Medio Alto', 'Alto', 'Molto Alto']\n",
    "\n",
    "# vado a creare una copia del dataset per la normalizzazione e categorizzazione\n",
    "X_normalized = X_train.copy()\n",
    "\n",
    "#per ogni colonna inizio un ciclo\n",
    "for col in columns_to_convert:\n",
    "    # calcolo dei percentili per definire i bins in modo adattivo (per ogni feature)\n",
    "    quantiles = X_train[col].quantile([0, 0.15, 0.30, 0.50, 0.70, 0.85, 1.0]).values\n",
    "\n",
    "    # aggiunta di un valore minimo per avere 8 bin edges\n",
    "    bins = [float('-inf')] + list(quantiles)  # Ora ha 8 valori\n",
    "\n",
    "    # applicazione della categorizzazione con pd.cut()\n",
    "    X_normalized[col] = pd.cut(X_train[col], bins=bins, labels=labels, include_lowest=True)\n",
    "\n",
    "# visualizzo le prime righe del dataset trasformato\n",
    "X_normalized.head()"
   ]
  },
  {
   "cell_type": "code",
   "execution_count": 18,
   "metadata": {},
   "outputs": [
    {
     "data": {
      "text/html": [
       "<div>\n",
       "<style scoped>\n",
       "    .dataframe tbody tr th:only-of-type {\n",
       "        vertical-align: middle;\n",
       "    }\n",
       "\n",
       "    .dataframe tbody tr th {\n",
       "        vertical-align: top;\n",
       "    }\n",
       "\n",
       "    .dataframe thead th {\n",
       "        text-align: right;\n",
       "    }\n",
       "</style>\n",
       "<table border=\"1\" class=\"dataframe\">\n",
       "  <thead>\n",
       "    <tr style=\"text-align: right;\">\n",
       "      <th></th>\n",
       "      <th>Chi2</th>\n",
       "      <th>p-value</th>\n",
       "    </tr>\n",
       "  </thead>\n",
       "  <tbody>\n",
       "    <tr>\n",
       "      <th>ph</th>\n",
       "      <td>18.948446</td>\n",
       "      <td>0.004252</td>\n",
       "    </tr>\n",
       "    <tr>\n",
       "      <th>Hardness</th>\n",
       "      <td>11.121399</td>\n",
       "      <td>0.084696</td>\n",
       "    </tr>\n",
       "    <tr>\n",
       "      <th>Solids_scaled</th>\n",
       "      <td>9.150462</td>\n",
       "      <td>0.165291</td>\n",
       "    </tr>\n",
       "    <tr>\n",
       "      <th>Chloramines</th>\n",
       "      <td>3.351554</td>\n",
       "      <td>0.763603</td>\n",
       "    </tr>\n",
       "    <tr>\n",
       "      <th>Sulfate</th>\n",
       "      <td>33.141926</td>\n",
       "      <td>0.000010</td>\n",
       "    </tr>\n",
       "    <tr>\n",
       "      <th>Conductivity</th>\n",
       "      <td>8.403900</td>\n",
       "      <td>0.209980</td>\n",
       "    </tr>\n",
       "    <tr>\n",
       "      <th>Organic_carbon</th>\n",
       "      <td>5.621462</td>\n",
       "      <td>0.466900</td>\n",
       "    </tr>\n",
       "    <tr>\n",
       "      <th>Trihalomethanes</th>\n",
       "      <td>1.895779</td>\n",
       "      <td>0.929030</td>\n",
       "    </tr>\n",
       "    <tr>\n",
       "      <th>Turbidity</th>\n",
       "      <td>2.825582</td>\n",
       "      <td>0.830398</td>\n",
       "    </tr>\n",
       "  </tbody>\n",
       "</table>\n",
       "</div>"
      ],
      "text/plain": [
       "                      Chi2   p-value\n",
       "ph               18.948446  0.004252\n",
       "Hardness         11.121399  0.084696\n",
       "Solids_scaled     9.150462  0.165291\n",
       "Chloramines       3.351554  0.763603\n",
       "Sulfate          33.141926  0.000010\n",
       "Conductivity      8.403900  0.209980\n",
       "Organic_carbon    5.621462  0.466900\n",
       "Trihalomethanes   1.895779  0.929030\n",
       "Turbidity         2.825582  0.830398"
      ]
     },
     "execution_count": 18,
     "metadata": {},
     "output_type": "execute_result"
    }
   ],
   "source": [
    "# importo la funzione per il chi_squared test\n",
    "from scipy.stats import chi2_contingency\n",
    "\n",
    "# lista delle colonne categorizzate per cui avverranno i calcoli\n",
    "categorical_features = ['ph', 'Hardness', 'Solids_scaled', 'Chloramines', 'Sulfate', 'Conductivity',\n",
    "                        'Organic_carbon', 'Trihalomethanes', 'Turbidity']\n",
    "\n",
    "# dizionario per salvare i risultati\n",
    "chi2_results = {}\n",
    "\n",
    "# eseguo il test Chi-quadro per ogni feature categorizzata rispetto a \"Potability\"\n",
    "for feature in categorical_features:\n",
    "    #creo la tabella di contingenza  per colonna in X\n",
    "    contingency_table = pd.crosstab(X_normalized[feature], y_train)\n",
    "    # calcolo i seguenti valori per la tabella prima creata\n",
    "    chi2, p, dof, expected = chi2_contingency(contingency_table)\n",
    "    # creo un dizionario tenendo solo chi2 e p_value prima calcolati\n",
    "    chi2_results[feature] = {'Chi2': chi2, 'p-value': p}\n",
    "\n",
    "# converto i risultati in un DataFrame\n",
    "chi2_df = pd.DataFrame.from_dict(chi2_results, orient='index')\n",
    "\n",
    "# stampo i risultati\n",
    "chi2_df"
   ]
  },
  {
   "cell_type": "markdown",
   "metadata": {},
   "source": [
    "Osservando i risultati posso giungere alle seguenti conclusioni: \n",
    "- le variabili *ph* e *Sulfate* sono significativamente correlate alla variabile target\n",
    "- la variabile *Hardness* è moderatamente correlata (a y) per il suo p_value vicino allo 0.05 \n",
    "- le altre variabili indipendenti presentano correlazioni deboli se non quasi nulle con le variabili y"
   ]
  },
  {
   "cell_type": "markdown",
   "metadata": {},
   "source": [
    "La prossima fase è quella di scegliere la metrica corretta per valutare la bontà dei modelli, vediamo le caratteristiche di alcune metriche:\n",
    "- **Accuracy**: valuta il numero di True Positive e True Negative correttamente identificati sul totale dei campioni; applicabile su dataset correttamente bilanciati\n",
    "- **Precision**: valuta il numero di True Positive correttamente identificati sul totale dei campioni identificati come positivi, si applica quando i falsi positivi sono particolarmente dannosi ai fini dell'analisi\n",
    "- **Recall**: valuta il numero di True Positive sul totale di True Positive e False Negative, utile quando è più costoso un caso di falso negativo \n",
    "- **Specificity**: valuta il numero di True Negative sul totale di True Negative e False Positive, utile quando si vuole principalmente evitare i falsi positivi\n",
    "- **F1-score**: è la media armonica tra precision e recall, utile quando occorre bilanciare entrambi"
   ]
  },
  {
   "cell_type": "markdown",
   "metadata": {},
   "source": [
    "In questo caso, per determinare la bontà dei modelli sarà scelta l'**F1-score**, più precisamente la **f1_macro**, in grado di dare un \"peso uguale\" ai risultati delle due classi."
   ]
  },
  {
   "cell_type": "markdown",
   "metadata": {},
   "source": [
    "In questa fase eseguirò uno **spot_check**, ovvero una sorta di screening per valutare le performance predittive di alcuni modelli di machine learning. Più nello specifico andrò ad applicare il metodo dello StratifiedKFold k-fold cross validation a due dataset: \n",
    "- il dataset di addestramento completo (*x_train*)\n",
    "- il subset di *x_train* contenente le features che nella precedente analisi hanno dimostrato una maggiore correlazione alle variabili dipendenti"
   ]
  },
  {
   "cell_type": "code",
   "execution_count": 19,
   "metadata": {},
   "outputs": [
    {
     "name": "stdout",
     "output_type": "stream",
     "text": [
      "Baseline Models:\n",
      "Random Model F1-score: 0.4968\n",
      "Majority Class Model F1-score: 0.3850\n",
      "\n",
      "Dataset: All Features\n",
      "\n",
      "Logistic Regression:\n",
      "413 ms ± 7.72 ms per loop (mean ± std. dev. of 7 runs, 1 loop each)\n",
      "Mean F1-score = 0.4893\n",
      "❌ Logistic Regression NON supera il modello random\n",
      "\n",
      "Random Forest:\n",
      "3.13 s ± 35.3 ms per loop (mean ± std. dev. of 7 runs, 1 loop each)\n",
      "Mean F1-score = 0.5598\n",
      "✅ Random Forest supera il modello random e il majority class model\n",
      "\n",
      "K-Nearest Neighbors:\n",
      "150 ms ± 901 μs per loop (mean ± std. dev. of 7 runs, 10 loops each)\n",
      "Mean F1-score = 0.5256\n",
      "✅ K-Nearest Neighbors supera il modello random e il majority class model\n",
      "\n",
      "Dataset: Selected Features\n",
      "\n",
      "Logistic Regression:\n",
      "48.3 ms ± 717 μs per loop (mean ± std. dev. of 7 runs, 10 loops each)\n",
      "Mean F1-score = 0.4924\n",
      "❌ Logistic Regression NON supera il modello random\n",
      "\n",
      "Random Forest:\n",
      "1.68 s ± 6.03 ms per loop (mean ± std. dev. of 7 runs, 1 loop each)\n",
      "Mean F1-score = 0.5313\n",
      "✅ Random Forest supera il modello random e il majority class model\n",
      "\n",
      "K-Nearest Neighbors:\n",
      "134 ms ± 719 μs per loop (mean ± std. dev. of 7 runs, 10 loops each)\n",
      "Mean F1-score = 0.5370\n",
      "✅ K-Nearest Neighbors supera il modello random e il majority class model\n"
     ]
    }
   ],
   "source": [
    "#importo le librerie con i relativi modelli\n",
    "from sklearn.model_selection import StratifiedKFold, cross_val_score\n",
    "from sklearn.linear_model import LogisticRegression\n",
    "from sklearn.ensemble import RandomForestClassifier\n",
    "from sklearn.neighbors import KNeighborsClassifier\n",
    "from sklearn.metrics import f1_score\n",
    "from sklearn.dummy import DummyClassifier\n",
    "import numpy as np\n",
    "\n",
    "# Imposto il seed per la riproducibilità\n",
    "seed = 35\n",
    "\n",
    "# Applico le funzioni ai dataset\n",
    "X_subset_train = X_train[['ph', 'Sulfate']]  # Imputa solo il sottoinsieme\n",
    "\n",
    "# Dizionario con i modelli aggiornati con class_weight='balanced'\n",
    "models = {\n",
    "    \"Logistic Regression\": LogisticRegression(max_iter=1000, random_state=seed, class_weight='balanced'),\n",
    "    \"Random Forest\": RandomForestClassifier(n_estimators=100, random_state=seed, class_weight='balanced'),\n",
    "    \"K-Nearest Neighbors\": KNeighborsClassifier(n_neighbors=5)\n",
    "}\n",
    "\n",
    "# Definisco la cross-validation\n",
    "kf = StratifiedKFold(n_splits=5, shuffle=True, random_state=seed)\n",
    "\n",
    "# Dizionario con i dataset\n",
    "datasets = {\n",
    "    \"All Features\": X_train,\n",
    "    \"Selected Features\": X_subset_train\n",
    "}\n",
    "\n",
    "# Calcolo della baseline performance\n",
    "\n",
    "# Modello random\n",
    "random_model = DummyClassifier(strategy=\"uniform\", random_state=seed)\n",
    "random_scores = cross_val_score(random_model, X_train, y_train, cv=kf, scoring='f1_macro')\n",
    "random_f1 = np.mean(random_scores)\n",
    "\n",
    "# Modello majority class\n",
    "majority_model = DummyClassifier(strategy=\"most_frequent\")\n",
    "majority_scores = cross_val_score(majority_model, X_train, y_train, cv=kf, scoring='f1_macro')\n",
    "majority_f1 = np.mean(majority_scores)\n",
    "\n",
    "print(f\"Baseline Models:\\nRandom Model F1-score: {random_f1:.4f}\")\n",
    "print(f\"Majority Class Model F1-score: {majority_f1:.4f}\")\n",
    "\n",
    "# Esecuzione dello spot check con %timeit\n",
    "for dataset_name, X in datasets.items():\n",
    "    print(f\"\\nDataset: {dataset_name}\")\n",
    "    for model_name, model in models.items():\n",
    "        print(f\"\\n{model_name}:\")\n",
    "        # Misuro il tempo di cross-validation\n",
    "        get_ipython().run_line_magic('timeit', f\"cross_val_score(model, X, y_train, cv=kf, scoring='f1_macro')\")\n",
    "\n",
    "        # Calcolo F1\n",
    "        scores = cross_val_score(model, X, y_train, cv=kf, scoring='f1_macro')\n",
    "        mean_f1 = np.mean(scores)\n",
    "        print(f\"Mean F1-score = {mean_f1:.4f}\")\n",
    "\n",
    "        # Confronto con le baseline\n",
    "        if mean_f1 > random_f1 and mean_f1 > majority_f1:\n",
    "            print(f\"✅ {model_name} supera il modello random e il majority class model\")\n",
    "        elif mean_f1 > random_f1:\n",
    "            print(f\"⚠️ {model_name} supera il modello random, ma non il majority class model\")\n",
    "        else:\n",
    "            print(f\"❌ {model_name} NON supera il modello random\")\n"
   ]
  },
  {
   "cell_type": "markdown",
   "metadata": {},
   "source": [
    "A giudicare dai risultati ottenuti è possibile formulare le seguenti osservazioni:\n",
    "- i due modelli che su entrambi i dataset hanno raggiunto i migliori risultati sono il **Random Forest** e il **K-Nearest Neighbors**\n",
    "- in questa fase in termini assoluti il miglior modello si è rivelato il **Random Forest** nel dataset completo di addestramento\n",
    "- la **Logistic Regression** non ha superato i baseline models in entrambi i dataset\n",
    "- il **K-Nearest Neighbors** ha avuto prestazioni migliori nel subset"
   ]
  },
  {
   "cell_type": "markdown",
   "metadata": {},
   "source": [
    "Successivamente, seleziono i due modelli più performanti per i dataset e ne valuto i migliori iperparametri"
   ]
  },
  {
   "cell_type": "markdown",
   "metadata": {},
   "source": [
    "A questo proposito procedo nel seguente modo:\n",
    "- per ogni modello seleziono alcuni dei suoi iperparametri più significativi\n",
    "- per ogni iperparametro definisco una lista di valori, che rappresentano vari livelli di complessità e costo computazionale\n",
    "- con la **grid_serach**, una volta definita la metrica di valutazione applico una cross validation per ogni iperparametro dei modelli\n",
    "- sempre applicando questa analisi ai due dataset sarò in grado di valutare se aggiungere complessità ai modelli porterà a dei benefici in termini predittivi"
   ]
  },
  {
   "cell_type": "code",
   "execution_count": 20,
   "metadata": {},
   "outputs": [
    {
     "name": "stdout",
     "output_type": "stream",
     "text": [
      "\n",
      "🔹 **Dataset: All Features**\n",
      "\n",
      "📌 **Random Forest**\n",
      "Migliori parametri: {'max_depth': 20, 'min_samples_split': 2, 'n_estimators': 100}\n",
      "Miglior f1-score: 0.5874\n",
      "\n",
      "📌 **K-Nearest Neighbors**\n",
      "Migliori parametri: {'n_neighbors': 5, 'p': 2, 'weights': 'distance'}\n",
      "Miglior f1-score: 0.5332\n",
      "\n",
      "🔹 **Dataset: Selected Features**\n",
      "\n",
      "📌 **Random Forest**\n",
      "Migliori parametri: {'max_depth': 20, 'min_samples_split': 10, 'n_estimators': 200}\n",
      "Miglior f1-score: 0.5508\n",
      "\n",
      "📌 **K-Nearest Neighbors**\n",
      "Migliori parametri: {'n_neighbors': 7, 'p': 2, 'weights': 'uniform'}\n",
      "Miglior f1-score: 0.5535\n"
     ]
    }
   ],
   "source": [
    "# importo la funzione gridsearch\n",
    "from sklearn.model_selection import GridSearchCV\n",
    "\n",
    "# definisco in un dizionario gli iperparametri per RandomForestClassifier\n",
    "rf_params = {\n",
    "    'n_estimators': [50, 100, 200],  # numero di alberi\n",
    "    'max_depth': [None, 10, 20],  # profondità dell'albero\n",
    "    'min_samples_split': [2, 5, 10]  # minimo numero di campioni per dividere un nodo\n",
    "}\n",
    "\n",
    "# definisco gli iperparametri per KNeighborsClassifier\n",
    "knn_params = {\n",
    "    'n_neighbors': [3, 5, 7, 9],  # numero di vicini\n",
    "    'weights': ['uniform', 'distance'],  # peso dei vicini\n",
    "    'p': [1, 2]  # 1 = Manhattan, 2 = Euclidean\n",
    "}\n",
    "\n",
    "# creazione dei modelli\n",
    "models = {\n",
    "    \"Random Forest\": (RandomForestClassifier(random_state=seed), rf_params),\n",
    "    \"K-Nearest Neighbors\": (KNeighborsClassifier(), knn_params)\n",
    "}\n",
    "\n",
    "# definizione della cross-validation\n",
    "kf = StratifiedKFold(n_splits=5, shuffle=True, random_state=seed)\n",
    "\n",
    "# dataset da testare\n",
    "datasets = {\n",
    "    \"All Features\": X_train,\n",
    "    \"Selected Features\": X_subset_train\n",
    "}\n",
    "\n",
    "# esecuzione della Grid Search\n",
    "for dataset_name, X in datasets.items():\n",
    "    print(f\"\\n🔹 **Dataset: {dataset_name}**\")\n",
    "    for model_name, (model, params) in models.items():\n",
    "        grid_search = GridSearchCV(model, param_grid=params, cv=kf, scoring='f1_macro', n_jobs=-1)\n",
    "        grid_search.fit(X, y_train)\n",
    "        print(f\"\\n📌 **{model_name}**\")\n",
    "        print(f\"Migliori parametri: {grid_search.best_params_}\")\n",
    "        print(f\"Miglior f1-score: {grid_search.best_score_:.4f}\")\n"
   ]
  },
  {
   "cell_type": "markdown",
   "metadata": {},
   "source": [
    "Una volta ottenuti i migliori iperparametri per ogni modello applico i modelli \"migliorati\" alla porzione di *test set*"
   ]
  },
  {
   "cell_type": "code",
   "execution_count": 21,
   "metadata": {},
   "outputs": [
    {
     "name": "stdout",
     "output_type": "stream",
     "text": [
      "📌 Random Forest (Full Dataset) → F1 Macro: 0.6034\n",
      "📌 KNeighborsClassifier (Full Dataset) → F1 Macro: 0.5194\n",
      "📌 Random Forest (Subset: ph, Sulfate) → F1 Macro: 0.4844\n",
      "📌 KNeighborsClassifier (Subset: ph, Sulfate) → F1 Macro: 0.4839\n"
     ]
    }
   ],
   "source": [
    "# importo la metrica di valutazione\n",
    "from sklearn.metrics import f1_score\n",
    "\n",
    "# creazione dei migliori modelli con i parametri ottimizzati\n",
    "best_rf_full = RandomForestClassifier(max_depth=20, min_samples_split=2, n_estimators=100, random_state=seed)\n",
    "best_KNN_full = KNeighborsClassifier(n_neighbors=5, p=2, weights='distance')\n",
    "best_rf_subset = RandomForestClassifier(max_depth=20, min_samples_split=10, n_estimators=200, random_state=seed)\n",
    "best_KNN_subset = KNeighborsClassifier(n_neighbors=7, p=2, weights='uniform')\n",
    "\n",
    "# Addestramento sui rispettivi dataset di training\n",
    "best_rf_full.fit(X_train, y_train)\n",
    "best_KNN_full.fit(X_train, y_train)\n",
    "best_rf_subset.fit(X_subset_train, y_train)\n",
    "best_KNN_subset.fit(X_subset_train, y_train)\n",
    "\n",
    "# Predizione sui dati di test\n",
    "y_pred_rf_full = best_rf_full.predict(X_test)\n",
    "y_pred_KNN_full = best_KNN_full.predict(X_test)\n",
    "y_pred_rf_subset = best_rf_subset.predict(X_test[[\"ph\", \"Sulfate\"]])\n",
    "y_pred_KNN_subset = best_KNN_subset.predict(X_test[[\"ph\", \"Sulfate\"]])\n",
    "\n",
    "# Calcolo del f1_macro per ogni modello\n",
    "f1_rf_full = f1_score(y_test, y_pred_rf_full, average='macro')\n",
    "f1_knn_full = f1_score(y_test, y_pred_KNN_full, average='macro')\n",
    "f1_rf_subset = f1_score(y_test, y_pred_rf_subset, average='macro')\n",
    "f1_knn_subset = f1_score(y_test, y_pred_KNN_subset, average='macro')\n",
    "\n",
    "# Stampa dei risultati\n",
    "print(f\"📌 Random Forest (Full Dataset) → F1 Macro: {f1_rf_full:.4f}\")\n",
    "print(f\"📌 KNeighborsClassifier (Full Dataset) → F1 Macro: {f1_knn_full:.4f}\")\n",
    "print(f\"📌 Random Forest (Subset: ph, Sulfate) → F1 Macro: {f1_rf_subset:.4f}\")\n",
    "print(f\"📌 KNeighborsClassifier (Subset: ph, Sulfate) → F1 Macro: {f1_knn_subset:.4f}\")"
   ]
  },
  {
   "cell_type": "markdown",
   "metadata": {},
   "source": [
    "Dai punteggi ottenuti si evince che il miglior modello predittivo è il **Random Forest**, ottenuto sul dataset con tutte le features. Questo risultato ci suggerisce che in alcuni casi, mantenere solo le features più rilevanti per evitare di \"catturare\" anche il caos non sempre porta a prestazioni di generalizzazione migliori."
   ]
  },
  {
   "cell_type": "markdown",
   "metadata": {},
   "source": [
    "*Grazie per l'attenzione!!*"
   ]
  }
 ],
 "metadata": {
  "kernelspec": {
   "display_name": "Python 3",
   "language": "python",
   "name": "python3"
  },
  "language_info": {
   "codemirror_mode": {
    "name": "ipython",
    "version": 3
   },
   "file_extension": ".py",
   "mimetype": "text/x-python",
   "name": "python",
   "nbconvert_exporter": "python",
   "pygments_lexer": "ipython3",
   "version": "3.12.4"
  }
 },
 "nbformat": 4,
 "nbformat_minor": 2
}
